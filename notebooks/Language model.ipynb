{
 "cells": [
  {
   "cell_type": "code",
   "execution_count": 1,
   "metadata": {
    "collapsed": false
   },
   "outputs": [],
   "source": [
    "import sys\n",
    "sys.path.append(\"../code/\")\n",
    "from wiki_dataset import get_wiki_dataset\n",
    "from __future__ import division\n",
    "from __future__ import print_function\n",
    "import numpy as np\n",
    "\n",
    "import chainer\n",
    "import chainer.functions as F\n",
    "import chainer.links as L\n",
    "import os\n",
    "from chainer import training\n",
    "from chainer.training import extensions"
   ]
  },
  {
   "cell_type": "markdown",
   "metadata": {},
   "source": [
    "# Idea\n",
    "In this notebook I will train the language models that I can use in a later stadium to try to learn the linear mapping from model a to model b. In this model we get as input a word embedding and as output the next word in the sequence. \n",
    "\n",
    "I will train a model for spanish and english."
   ]
  },
  {
   "cell_type": "markdown",
   "metadata": {},
   "source": [
    "## Model\n",
    "Our model is based on the https://github.com/pfnet/chainer/tree/master/examples/ptb model.  "
   ]
  },
  {
   "cell_type": "code",
   "execution_count": null,
   "metadata": {
    "collapsed": false
   },
   "outputs": [],
   "source": [
    "# This a simple language model, directly copied from the tutorial\n",
    "class RNNLM(chainer.Chain):\n",
    "\n",
    "    def __init__(self, n_vocab, n_units, train=True):\n",
    "        super(RNNLM, self).__init__(\n",
    "            embed=L.EmbedID(n_vocab, n_units),\n",
    "            l1=L.LSTM(n_units, n_units),\n",
    "            l2=L.LSTM(n_units, n_units),\n",
    "            l3=L.Linear(n_units, n_vocab),\n",
    "        )\n",
    "        self.n_units = n_units\n",
    "        self.n_vocab = n_vocab\n",
    "        # Initialize with uniform distribution, expect for our linear tranformation layer\n",
    "        #for param in self.params():\n",
    "        #    param.data[...] = np.random.uniform(-0.1, 0.1, param.data.shape)\n",
    "        \n",
    "        self.train = train\n",
    "\n",
    "    def reset_state(self):\n",
    "        self.l1.reset_state()\n",
    "        self.l2.reset_state()\n",
    "\n",
    "    def __call__(self, x):\n",
    "        h0 = self.embed(x)\n",
    "        h2 = self.l1(F.dropout(h0, train=self.train))\n",
    "        h3 = self.l2(F.dropout(h2, train=self.train))\n",
    "        y = self.l3(F.dropout(h3, train=self.train))\n",
    "        return y"
   ]
  },
  {
   "cell_type": "markdown",
   "metadata": {},
   "source": [
    "## Dataset iterator"
   ]
  },
  {
   "cell_type": "markdown",
   "metadata": {},
   "source": [
    "From the tutorial we re-use the following code:\n",
    "- **ParallelSequentialIteratior**: This class takes a dataset and creates batches(with batch size N) from it. In the first \\_\\_next()\\_\\_ step it will give the first words of N sequences as input and as target value the next word in the sequence. In the next \\_\\_next\\_\\_() call it will return the 2nd word of N sequences as input and the third word for as target etc. Running multiple sequences at the same time allows for efficient matrix multiplication(especially useful for GPU acceleration) furthermore the gradients for all sequences can be summed and applied immediately(allowing for statistic gradient descent). \n",
    "- **BPTTUpdater**: To obtain the weight gradients for our neural network we make use of back propagation trough time algorithm. It unfolds a neural network into a normal feedforward network where each layer represents one timestep, and then sums the gradients for each connection. The gradients are only saved for a fixed number of steps (\"truncated\"). \n",
    "- **Compute perplexity**: Perplexity is a measurement often used to evaluate language models in NLP context. It  assumes to obtain the softmax classification error as is used by default by the [chainer L.Classifier link](http://docs.chainer.org/en/stable/_modules/chainer/links/model/classifier.html?highlight=Classifier)"
   ]
  },
  {
   "cell_type": "code",
   "execution_count": null,
   "metadata": {
    "collapsed": false
   },
   "outputs": [],
   "source": [
    "# Dataset iterator to create a batch of sequences at different positions.\n",
    "# This iterator returns a pair of current words and the next words. Each\n",
    "# example is a part of sequences starting from the different offsets\n",
    "# equally spaced within the whole sequence.\n",
    "class ParallelSequentialIterator(chainer.dataset.Iterator):\n",
    "\n",
    "    def __init__(self, dataset, batch_size, repeat=True):\n",
    "        self.dataset = dataset\n",
    "        self.batch_size = batch_size  # batch size\n",
    "        # Number of completed sweeps over the dataset. In this case, it is\n",
    "        # incremented if every word is visited at least once after the last\n",
    "        # increment.\n",
    "        self.epoch = 0\n",
    "        # True if the epoch is incremented at the last iteration.\n",
    "        self.is_new_epoch = False\n",
    "        self.repeat = repeat\n",
    "        length = len(dataset)\n",
    "        # Offsets maintain the position of each sequence in the mini-batch.\n",
    "        self.offsets = [i * length // batch_size for i in range(batch_size)]\n",
    "        # NOTE: this is not a count of parameter updates. It is just a count of\n",
    "        # calls of ``__next__``.\n",
    "        self.iteration = 0\n",
    "\n",
    "    def __next__(self):\n",
    "        # This iterator returns a list representing a mini-batch. Each item\n",
    "        # indicates a different position in the original sequence. Each item is\n",
    "        # represented by a pair of two word IDs. The first word is at the\n",
    "        # \"current\" position, while the second word at the next position.\n",
    "        # At each iteration, the iteration count is incremented, which pushes\n",
    "        # forward the \"current\" position.\n",
    "        length = len(self.dataset)\n",
    "        if not self.repeat and self.iteration * self.batch_size >= length:\n",
    "            # If not self.repeat, this iterator stops at the end of the first\n",
    "            # epoch (i.e., when all words are visited once).\n",
    "            raise StopIteration\n",
    "        cur_words = self.get_words()\n",
    "        self.iteration += 1\n",
    "        next_words = self.get_words()\n",
    "\n",
    "        epoch = self.iteration * self.batch_size // length\n",
    "        self.is_new_epoch = self.epoch < epoch\n",
    "        if self.is_new_epoch:\n",
    "            self.epoch = epoch\n",
    "\n",
    "        return list(zip(cur_words, next_words))\n",
    "\n",
    "    @property\n",
    "    def epoch_detail(self):\n",
    "        # Floating point version of epoch.\n",
    "        return self.iteration * self.batch_size / len(self.dataset)\n",
    "\n",
    "    def get_words(self):\n",
    "        # It returns a list of current words.\n",
    "        return [self.dataset[(offset + self.iteration) % len(self.dataset)]\n",
    "                for offset in self.offsets]\n",
    "\n",
    "    def serialize(self, serializer):\n",
    "        # It is important to serialize the state to be recovered on resume.\n",
    "        self.iteration = serializer('iteration', self.iteration)\n",
    "        self.epoch = serializer('epoch', self.epoch)\n",
    "\n",
    "\n",
    "# Custom updater for truncated BackProp Through Time (BPTT)\n",
    "class BPTTUpdater(training.StandardUpdater):\n",
    "\n",
    "    def __init__(self, train_iter, optimizer, bprop_len, device):\n",
    "        super(BPTTUpdater, self).__init__(\n",
    "            train_iter, optimizer, device=device)\n",
    "        self.bprop_len = bprop_len\n",
    "\n",
    "    # The core part of the update routine can be customized by overriding.\n",
    "    def update_core(self):\n",
    "        loss = 0\n",
    "        # When we pass one iterator and optimizer to StandardUpdater.__init__,\n",
    "        # they are automatically named 'main'.\n",
    "        train_iter = self.get_iterator('main')\n",
    "        optimizer = self.get_optimizer('main')\n",
    "\n",
    "        # Progress the dataset iterator for bprop_len words at each iteration.\n",
    "        for i in range(self.bprop_len):\n",
    "            # Get the next batch (a list of tuples of two word IDs)\n",
    "            batch = train_iter.__next__()\n",
    "\n",
    "            # Concatenate the word IDs to matrices and send them to the device\n",
    "            # self.converter does this job\n",
    "            # (it is chainer.dataset.concat_examples by default)\n",
    "            x, t = self.converter(batch, self.device)\n",
    "\n",
    "            # Compute the loss at this time step and accumulate it\n",
    "            loss += optimizer.target(chainer.Variable(x), chainer.Variable(t))\n",
    "\n",
    "        optimizer.target.cleargrads()  # Clear the parameter gradients\n",
    "        loss.backward()  # Backprop\n",
    "        loss.unchain_backward()  # Truncate the graph\n",
    "        optimizer.update()  # Update the parameters\n",
    "\n",
    "\n",
    "# Routine to rewrite the result dictionary of LogReport to add perplexity\n",
    "# values\n",
    "def compute_perplexity(result):\n",
    "    result['perplexity'] = np.exp(result['main/loss'])\n",
    "    if 'validation/main/loss' in result:\n",
    "        result['val_perplexity'] = np.exp(result['validation/main/loss'])"
   ]
  },
  {
   "cell_type": "markdown",
   "metadata": {},
   "source": [
    "## Dataset:\n",
    "First we have to divide our training, test and validation set. I use rougly the same fractions that are used in the get_ptb_words() dataset. First a 10% - 90% training - validation split. Then split the training again 10% - 90% to obtain a test and training set."
   ]
  },
  {
   "cell_type": "code",
   "execution_count": null,
   "metadata": {
    "collapsed": false
   },
   "outputs": [],
   "source": [
    "def retrieve_and_split(dump):\n",
    "    seq, voc = get_wiki_dataset(dump)\n",
    "    seq = seq.astype(np.int32)\n",
    "    \n",
    "    val_start = int(len(seq) * .9)\n",
    "    test_start = int(val_start *.9)\n",
    "    train = seq[:test_start]\n",
    "    test = seq[test_start:val_start]\n",
    "    val = seq[val_start:]\n",
    "    \n",
    "    return train, val, test, voc"
   ]
  },
  {
   "cell_type": "markdown",
   "metadata": {},
   "source": [
    "## Model training"
   ]
  },
  {
   "cell_type": "code",
   "execution_count": null,
   "metadata": {
    "collapsed": false
   },
   "outputs": [],
   "source": [
    "def train(dump, name, test_mode=False, epoch=5, batch_size=128, gpu=-1, out='result', grad_clip=True, brpoplen=35, resume='',max_seq_size=250000):\n",
    "    \"\"\"\n",
    "\n",
    "    \"\"\"\n",
    "    train, val, test, voc = retrieve_and_split(dump,max_seq_size)\n",
    "    n_vocab = len(voc)\n",
    "    # n_vocab=10\n",
    "    print(\"Going to run %s\" % name)\n",
    "    print(\"#training: %d, #val: %d, #test: %d\" % (len(train), len(val), len(test)))\n",
    "    print(\"#vocabulary: %d\" % n_vocab)\n",
    "\n",
    "    if test_mode:\n",
    "        print(\"Running in test mode: cutting test, train and val set to 100 elements each\")\n",
    "        train = train[:10000]\n",
    "        test = test[:100]\n",
    "        val = val[:100]\n",
    "        if batch_size > 100:\n",
    "            batch_size = 100\n",
    "\n",
    "    train_iter = ParallelSequentialIterator(train, batch_size)\n",
    "    val_iter = ParallelSequentialIterator(val, 1, repeat=False)\n",
    "    test_iter = ParallelSequentialIterator(test, 1, repeat=False)\n",
    "\n",
    "    # Prepare an RNNLM model\n",
    "    print(\"Creating model\")\n",
    "    rnn = RNNLM(n_vocab, 800)\n",
    "    print(\"Init model complete\")\n",
    "    model = L.Classifier(rnn)\n",
    "    model.compute_accuracy = False  # we only want the perplexity\n",
    "    if gpu >= 0:\n",
    "        chainer.cuda.get_device(gpu).use()  # make the GPU current\n",
    "        model.to_gpu()\n",
    "\n",
    "    # Set up an optimizer\n",
    "    optimizer = chainer.optimizers.SGD(lr=1.0)\n",
    "    optimizer.setup(model)\n",
    "    optimizer.add_hook(chainer.optimizer.GradientClipping(grad_clip))\n",
    "\n",
    "    # Set up a trainer\n",
    "    updater = BPTTUpdater(train_iter, optimizer, brpoplen, gpu)\n",
    "    trainer = training.Trainer(updater, (epoch, 'epoch'), out=out)\n",
    "\n",
    "    eval_model = model.copy()  # Model with shared params and distinct states\n",
    "    eval_rnn = eval_model.predictor\n",
    "    eval_rnn.train = False\n",
    "    trainer.extend(extensions.Evaluator(\n",
    "        val_iter, eval_model, device=gpu,\n",
    "        # Reset the RNN state at the beginning of each evaluation\n",
    "        eval_hook=lambda _: eval_rnn.reset_state()))\n",
    "\n",
    "    interval = 10 if test_mode else 500\n",
    "\n",
    "    trainer.extend(extensions.ExponentialShift('lr', 0.5),\n",
    "                   trigger=(25, 'epoch'))\n",
    "    trainer.extend(extensions.LogReport(postprocess=compute_perplexity,\n",
    "                                        trigger=(interval, 'iteration')))\n",
    "    trainer.extend(extensions.PrintReport(\n",
    "        ['epoch', 'iteration', 'perplexity', 'val_perplexity']\n",
    "    ), trigger=(interval, 'iteration'))\n",
    "    trainer.extend(extensions.ProgressBar(\n",
    "        update_interval=10 if test_mode else 125))\n",
    "    trainer.extend(extensions.snapshot())\n",
    "    trainer.extend(extensions.snapshot_object(\n",
    "        model, 'model_iter_{.updater.iteration}'))\n",
    "    if resume:\n",
    "        chainer.serializers.load_npz(resume, trainer)\n",
    "    date = time.strftime(\"%Y-%m-%d_%H-%M-%S\")\n",
    "    fn_a = 'loss_%s.png' % date\n",
    "    loss_r = extensions.PlotReport(['validation/main/loss','main/loss'],'epoch',file_name=fn_a)\n",
    "\n",
    "    trainer.extend(loss_r)\n",
    "    start = time.time()\n",
    "    trainer.run()\n",
    "\n",
    "    diff = time.time() - start\n",
    "    \n",
    "    # Evaluate the final model\n",
    "    print('test')\n",
    "    eval_rnn.reset_state()\n",
    "    evaluator = extensions.Evaluator(test_iter, eval_model, device=gpu)\n",
    "    result = evaluator()\n",
    "    print('test perplexity:', np.exp(float(result['main/loss'])))\n",
    "    com.add_text(\"final loss\",result['main/loss'])\n",
    "\n"
   ]
  },
  {
   "cell_type": "markdown",
   "metadata": {
    "collapsed": true
   },
   "source": [
    "I actually executed this script via a batch script for english and spanish. Using the `sh scripts/english_lm.sh` and `sh scripts/spanish_lm.sh`. Next I will read the results.\n",
    "\n",
    "## Analyse learned language models"
   ]
  },
  {
   "cell_type": "code",
   "execution_count": 47,
   "metadata": {
    "collapsed": false
   },
   "outputs": [],
   "source": [
    "from models import load_rnn_model\n",
    "import re\n",
    "from chainer.functions.activation.softmax import softmax\n",
    "def tokenize(line):\n",
    "    line = line.replace(\"<br>\", \" \").replace(\". \", \" <eos> \").lower()\n",
    "    for token in re.findall(\"[\\w\\<\\>]+\", line):\n",
    "        yield token\n",
    "def read_dataset(file):\n",
    "    \"\"\"\n",
    "    Reads dataset that was exported by export_dataset\n",
    "    :param file:\n",
    "    :return:\n",
    "    \"\"\"\n",
    "    np.load(file)\n",
    "    data = np.load(file)\n",
    "    seq,voc = data['seq'],data['voc']\n",
    "    seq = seq.astype(np.int32)\n",
    "    return seq,voc"
   ]
  },
  {
   "cell_type": "markdown",
   "metadata": {},
   "source": [
    "#### Load datasets and models"
   ]
  },
  {
   "cell_type": "code",
   "execution_count": 48,
   "metadata": {
    "collapsed": false
   },
   "outputs": [
    {
     "name": "stdout",
     "output_type": "stream",
     "text": [
      "The english vocabulary contains 8981 different words\n",
      "The spanish vocabulary contains 8186 different words\n"
     ]
    }
   ],
   "source": [
    "ENGLISH_FOLDER = \"../result-english/\"\n",
    "SPANISH_FOLDER = \"../result-spanish/\"\n",
    "model_english = os.path.join(ENGLISH_FOLDER,'model_iter_5430')\n",
    "model_spanish = os.path.join(SPANISH_FOLDER,'model_iter_5432')\n",
    "seq_en, voc_en = read_dataset(os.path.join(ENGLISH_FOLDER,'data.npz'))\n",
    "seq_es, voc_es = read_dataset(os.path.join(SPANISH_FOLDER,'data.npz'))\n",
    "rnn_en = load_rnn_model(model_english,len(voc_en),800)\n",
    "rnn_es = load_rnn_model(model_spanish,len(voc_es),800)\n",
    "print(\"The english vocabulary contains %d different words\" % len(voc_en))\n",
    "print(\"The spanish vocabulary contains %d different words\" % len(voc_es))"
   ]
  },
  {
   "cell_type": "code",
   "execution_count": 68,
   "metadata": {
    "collapsed": false
   },
   "outputs": [
    {
     "name": "stdout",
     "output_type": "stream",
     "text": [
      "['<below_th>' 'Kutch' 'Gurjar' 'contributions' 'to' 'the' 'Indian'\n",
      " 'railways' 'The' 'KGK' 'were' 'widespread' 'from' 'late' 'latest']\n"
     ]
    },
    {
     "data": {
      "text/plain": [
       "['sheep <below_th> a lot of grass and produce <below_th> <eos> The film was also known as the Hayseeds s director of the Year and the National Film Festival of the Year in the United States <eos> The album was released on August 2011 <eos> It was released on August 2011 <eos> It was released on August 29 2011 <eos> It was released on August 29 September 2011 <eos> The following year the season was released on August 2011 <eos> The album was released on August 2011 <eos> The album was released on August 29 2011 <eos> The following year the season',\n",
       " 'the <below_th> rule or law of <below_th> is the principle of <below_th> others as one would <below_th> the author s own and the film is not known as a result of the film s own work and the film was released on the film as a result of the film s first film was released on August 2011 <eos> The film was released on August 2011 <eos> The album was released on August 29 2011 <eos> The album was released on August 29 2011 <eos> The following year old season was the first round of the season in the 2011 World']"
      ]
     },
     "execution_count": 68,
     "metadata": {},
     "output_type": "execute_result"
    }
   ],
   "source": [
    "\n",
    "def create_inverse_voc(voc):\n",
    "    return dict([(word,idx) for idx,word in enumerate(voc)])\n",
    "\n",
    "def map_line_to_seq(line,inverse_voc):\n",
    "    return [inverse_voc[w] if w in inverse_voc else inverse_voc['<below_th>'] for w in tokenize(line)]\n",
    "def map_seq_to_sentence(seq, voc):\n",
    "    return \" \".join([voc[int(w)] for w in seq])\n",
    "\n",
    "def generate_text(pred, voc, seeds=[],max_len=100):\n",
    "    inverse_voc = create_inverse_voc(voc)\n",
    "    text_idx = [map_line_to_seq(s,inverse_voc) for s in seeds]\n",
    "    n= len(text_idx)\n",
    "\n",
    "    for i in range(max_len):\n",
    "        X = []\n",
    "        for s in text_idx:\n",
    "            X.append(s[i])\n",
    "        X = np.array(X,dtype=np.int32)\n",
    "        d = pred(X).data\n",
    "        d = np.delete(d,0,1)\n",
    "        next_words = np.argmax(d,axis=1) + 1\n",
    "        next_index = i + 1\n",
    "        for si in range(len(text_idx)):\n",
    "            if len(text_idx[si]) <= next_index:\n",
    "                text_idx[si].append(next_words[si])\n",
    "    \n",
    "    return [map_seq_to_sentence(s, voc) for s in text_idx]\n",
    "seeds = [\"Sheep eat a lot of grass and produce wool. \", \"The Golden Rule or law of reciprocity is the principle of treating others as one would wish\"]\n",
    "print(voc_en[:15])\n",
    "rnn_en.predictor.train = False\n",
    "generate_text(rnn_en.predictor, voc_en, seeds)"
   ]
  },
  {
   "cell_type": "code",
   "execution_count": null,
   "metadata": {
    "collapsed": true
   },
   "outputs": [],
   "source": []
  }
 ],
 "metadata": {
  "kernelspec": {
   "display_name": "Python 2",
   "language": "python",
   "name": "python2"
  },
  "language_info": {
   "codemirror_mode": {
    "name": "ipython",
    "version": 2
   },
   "file_extension": ".py",
   "mimetype": "text/x-python",
   "name": "python",
   "nbconvert_exporter": "python",
   "pygments_lexer": "ipython2",
   "version": "2.7.12"
  }
 },
 "nbformat": 4,
 "nbformat_minor": 0
}
