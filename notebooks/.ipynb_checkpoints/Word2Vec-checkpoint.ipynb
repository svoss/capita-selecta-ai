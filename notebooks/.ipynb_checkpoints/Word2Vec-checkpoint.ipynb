{
 "cells": [
  {
   "cell_type": "code",
   "execution_count": 1,
   "metadata": {
    "collapsed": false
   },
   "outputs": [],
   "source": [
    "from gensim.models import word2vec\n",
    "from gensim.corpora.wikicorpus import WikiCorpus\n",
    "from gensim.corpora.mmcorpus import MmCorpus\n",
    "import os\n",
    "import re\n",
    "import codecs\n",
    "import matplotlib.pyplot as plt\n",
    "from nltk.tokenize import word_tokenize,sent_tokenize\n",
    "from collections import Counter, OrderedDict\n",
    "path = \"/Users/stijnvoss/Documents/uni/capita-selecta-ai/datasets/\""
   ]
  },
  {
   "cell_type": "markdown",
   "metadata": {},
   "source": [
    "In order to train an word2vec model we have to split our text in sentences and words. It's not trivial for the voynich manuscript tough: https://stephenbax.net/?p=940"
   ]
  },
  {
   "cell_type": "code",
   "execution_count": 28,
   "metadata": {
    "collapsed": false
   },
   "outputs": [],
   "source": [
    "def remove_punctation(sentence):\n",
    "    \"\"\"\n",
    "    Given an sentence represented as a list of tokens, remove the tokens from the list that do not contain \"\"\n",
    "    \"\"\"\n",
    "    return [t.lower() for t in sentence if re.search(\"\\w\",t) is not None]\n",
    "\n",
    "def prepare_sentences(folder):\n",
    "    #walk over all files in folder\n",
    "    s = 0\n",
    "    for filename in os.listdir(folder):\n",
    "        if filename.endswith(\".txt\"):\n",
    "            with codecs.open(os.path.join(folder,filename),'r',encoding='utf8') as io:\n",
    "                for s in sent_tokenize(io.read()):\n",
    "                    yield word_tokenize(s)\n",
    "\n",
    "def plot_statistics(folder,index):\n",
    "    counter = OrderedDict(sorted([(int(k), int(v)) for k,v in Counter([len(s) for s in prepare_sentences(folder)]).iteritems()]))\n",
    "    print counter\n",
    "    #sentence\n",
    "    plt.figure(index)\n",
    "    plt.subplot(211)\n",
    "    plt.title(\"Number of words per sentence\")\n",
    "    plt.plot(counter.keys(), counter.values())\n",
    "    \n",
    "    tokens = [t for s in prepare_sentences(folder) for t in s ]\n",
    "    token_counter =  OrderedDict(Counter(tokens))\n",
    "    plt.subplot(212)\n",
    "    plt.title(\"Word frequency\")\n",
    "    plt.plot(sorted(token_counter.values(),reverse=True))\n",
    "    plt.show()\n",
    "\n"
   ]
  },
  {
   "cell_type": "markdown",
   "metadata": {},
   "source": [
    "## Our own dataset (with similar properties as the voynisch manuscript)"
   ]
  },
  {
   "cell_type": "code",
   "execution_count": 44,
   "metadata": {
    "collapsed": false
   },
   "outputs": [
    {
     "name": "stdout",
     "output_type": "stream",
     "text": [
      "[(u'stengels', 0.8808669447898865), (u'hiervoor', 0.8438396453857422), (u'hem', 0.8056163787841797), (u'\\xe9n', 0.8026626110076904), (u'gaf', 0.7889652848243713), (u'bepaald', 0.7864552140235901), (u'frito', 0.7809202075004578), (u'werkzame', 0.7780563235282898), (u'con', 0.7766792178153992), (u'centrale', 0.7713658213615417)]\n",
      "0.99971769872\n"
     ]
    }
   ],
   "source": [
    "sentences = [remove_punctation(s) for s in prepare_sentences(os.path.join(path,'nl'))]\n",
    "nl = word2vec.Word2Vec(sentences, size=20, window=5, min_count=2, workers=4,sg=1,hs=1, alpha=0.00025,iter=50)\n",
    "sentences = [s for s in prepare_sentences(os.path.join(path,'en'))]\n",
    "en = word2vec.Word2Vec(sentences, size=25, window=5, min_count=2, workers=4)\n",
    "print nl.most_similar('spinazie')\n",
    "print en.similarity('the','mint')"
   ]
  },
  {
   "cell_type": "markdown",
   "metadata": {},
   "source": [
    "The word2vec model seems to have difficulty learning real good word2vec values, probably due to the limited number of words "
   ]
  },
  {
   "cell_type": "markdown",
   "metadata": {},
   "source": [
    "## Wikipedia"
   ]
  },
  {
   "cell_type": "markdown",
   "metadata": {},
   "source": [
    "Gensim also supports learning word2vec directly from wikipedia, which may lead to more usable word2vec values. Because of the way larger vocubaries at hand"
   ]
  },
  {
   "cell_type": "code",
   "execution_count": null,
   "metadata": {
    "collapsed": false
   },
   "outputs": [],
   "source": [
    "es = os.path.join(path,'es')\n",
    "wiki = WikiCorpus(os.path.join(es,'eswiki-20161120-pages-articles1.xml-p000000005p000229076.bz2'))\n",
    "MmCorpus.serialize(os.path.join(es,'wiki.mm'), wiki)"
   ]
  },
  {
   "cell_type": "code",
   "execution_count": null,
   "metadata": {
    "collapsed": true
   },
   "outputs": [],
   "source": []
  }
 ],
 "metadata": {
  "kernelspec": {
   "display_name": "Python 2",
   "language": "python",
   "name": "python2"
  },
  "language_info": {
   "codemirror_mode": {
    "name": "ipython",
    "version": 2
   },
   "file_extension": ".py",
   "mimetype": "text/x-python",
   "name": "python",
   "nbconvert_exporter": "python",
   "pygments_lexer": "ipython2",
   "version": "2.7.12"
  }
 },
 "nbformat": 4,
 "nbformat_minor": 1
}
